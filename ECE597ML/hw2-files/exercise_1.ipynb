{
 "cells": [
  {
   "cell_type": "markdown",
   "id": "33bc7e20",
   "metadata": {},
   "source": [
    "Create a jupyter notebook called exercise_1.ipynb and write code to do the following:\n",
    "   \n",
    "• Enter the following matrices and vectors"
   ]
  },
  {
   "attachments": {
    "Screenshot%202023-02-22%20at%205.41.04%20PM.png": {
     "image/png": "[encoded data removed]"
    }
   },
   "cell_type": "markdown",
   "id": "be0b0d01",
   "metadata": {},
   "source": [
    "![Screenshot%202023-02-22%20at%205.41.04%20PM.png](attachment:Screenshot%202023-02-22%20at%205.41.04%20PM.png)"
   ]
  },
  {
   "cell_type": "markdown",
   "id": "9e351987",
   "metadata": {},
   "source": [
    "1) Compute C = A^−1\n",
    "\n",
    "2) Check that AC = I and CA = I \n",
    "\n",
    "3) Compute Ax\n",
    "\n",
    "4) Compute AT A\n",
    "\n",
    "5)  Compute Ax − Bx\n",
    "\n",
    "6)  Compute ∥x∥ (use the dot product)\n",
    "\n",
    "7)  Compute ∥Ax − Bx∥\n",
    "\n",
    "8)  Print the first column of A (do not use a loop — use array “slicing” instead)\n",
    "\n",
    "9)  Assign the vector x to the first column of B (do not use a loop – use “array slicing” instead) \n",
    "\n",
    "10) Compute the element-wise product between the first column of A and the second column of A"
   ]
  },
  {
   "cell_type": "code",
   "execution_count": 88,
   "id": "ce0cd72a",
   "metadata": {},
   "outputs": [
    {
     "data": {
      "text/plain": [
       "array([[-2,  3],\n",
       "       [ 1,  0]])"
      ]
     },
     "execution_count": 88,
     "metadata": {},
     "output_type": "execute_result"
    }
   ],
   "source": [
    "import numpy as np\n",
    "\n",
    "A = np.array([[-2,3],[1,0]])\n",
    "B = np.array([[1,1],[1,0]])\n",
    "x = np.array([[-1],[1]])\n",
    "A"
   ]
  },
  {
   "cell_type": "code",
   "execution_count": 89,
   "id": "cac841ce",
   "metadata": {},
   "outputs": [
    {
     "data": {
      "text/plain": [
       "array([[-0.        ,  1.        ],\n",
       "       [ 0.33333333,  0.66666667]])"
      ]
     },
     "execution_count": 89,
     "metadata": {},
     "output_type": "execute_result"
    }
   ],
   "source": [
    "#1) Compute C = A^−1\n",
    "detA = (A[0,0]*A[1,1] - A[0,1]*A[1,0])\n",
    "C= np.array([[A[1,1],-A[0,1]],[-A[1,0],A[0,0]]])\n",
    "C = C * (1/detA)\n",
    "C"
   ]
  },
  {
   "cell_type": "code",
   "execution_count": 90,
   "id": "1dbac7cc",
   "metadata": {},
   "outputs": [
    {
     "data": {
      "text/plain": [
       "True"
      ]
     },
     "execution_count": 90,
     "metadata": {},
     "output_type": "execute_result"
    }
   ],
   "source": [
    "#2) Check that AC = I and CA = I \n",
    "I1 = np.dot(A,C)\n",
    "I2 = np.dot(C,A)\n",
    "np.allclose(I1,I2)"
   ]
  },
  {
   "cell_type": "code",
   "execution_count": 91,
   "id": "d8025a54",
   "metadata": {},
   "outputs": [
    {
     "data": {
      "text/plain": [
       "array([[ 2, -3],\n",
       "       [ 1,  0]])"
      ]
     },
     "execution_count": 91,
     "metadata": {},
     "output_type": "execute_result"
    }
   ],
   "source": [
    "#3) Compute Ax\n",
    "Ax = A * x\n",
    "Ax"
   ]
  },
  {
   "cell_type": "code",
   "execution_count": 92,
   "id": "466652b6",
   "metadata": {},
   "outputs": [
    {
     "data": {
      "text/plain": [
       "array([[4, 3],\n",
       "       [3, 0]])"
      ]
     },
     "execution_count": 92,
     "metadata": {},
     "output_type": "execute_result"
    }
   ],
   "source": [
    "#4) Compute AT A\n",
    "A_t_A = A.transpose() * A\n",
    "A_t_A"
   ]
  },
  {
   "cell_type": "code",
   "execution_count": 93,
   "id": "c75c4586",
   "metadata": {},
   "outputs": [
    {
     "name": "stdout",
     "output_type": "stream",
     "text": [
      "[[ 3 -2]\n",
      " [ 0  0]]\n"
     ]
    }
   ],
   "source": [
    "#5)  Compute Ax − Bx\n",
    "AxBx = A*x - B*x\n",
    "print(AxBx)"
   ]
  },
  {
   "cell_type": "code",
   "execution_count": 94,
   "id": "1e49a8d5",
   "metadata": {},
   "outputs": [
    {
     "name": "stdout",
     "output_type": "stream",
     "text": [
      "1.4142135623730951\n"
     ]
    }
   ],
   "source": [
    "#6)  Compute ∥x∥ (use the dot product)\n",
    "x = np.array([[-1],[1]])\n",
    "x_T = x.transpose()\n",
    "x_norm = np.sqrt(np.dot(x_T,x))\n",
    "print(x_norm.item())"
   ]
  },
  {
   "cell_type": "code",
   "execution_count": 95,
   "id": "047febc1",
   "metadata": {
    "scrolled": true
   },
   "outputs": [
    {
     "name": "stdout",
     "output_type": "stream",
     "text": [
      "5.0\n"
     ]
    }
   ],
   "source": [
    "#7)  Compute ∥Ax − Bx∥\n",
    "AxBx_diff = np.dot(A,x) - np.dot(B,x)\n",
    "AxBx_diff_T= AxBx_diff.transpose()\n",
    "AxBx_diff_norm = np.sqrt(np.dot(AxBx_diff_T,AxBx_diff))\n",
    "print(AxBx_diff_norm.item())"
   ]
  },
  {
   "cell_type": "code",
   "execution_count": 96,
   "id": "0c54113a",
   "metadata": {},
   "outputs": [
    {
     "name": "stdout",
     "output_type": "stream",
     "text": [
      "[-2  1]\n"
     ]
    }
   ],
   "source": [
    "#8)  Print the first column of A (do not use a loop — use array “slicing” instead)\n",
    "print(A[:,0])"
   ]
  },
  {
   "cell_type": "code",
   "execution_count": 97,
   "id": "ffa3f75e",
   "metadata": {},
   "outputs": [
    {
     "data": {
      "text/plain": [
       "array([[-1,  1],\n",
       "       [ 1,  0]])"
      ]
     },
     "execution_count": 97,
     "metadata": {},
     "output_type": "execute_result"
    }
   ],
   "source": [
    "#9)  Assign the vector x to the first column of B (do not use a loop – use “array slicing” instead)\n",
    "B = np.array([[1,1],[1,0]])\n",
    "x = np.array([[-1],[1]])\n",
    "B[0,:] = x[:,0]\n",
    "B"
   ]
  },
  {
   "cell_type": "code",
   "execution_count": 98,
   "id": "54e9227e",
   "metadata": {},
   "outputs": [
    {
     "data": {
      "text/plain": [
       "array([-6,  0])"
      ]
     },
     "execution_count": 98,
     "metadata": {},
     "output_type": "execute_result"
    }
   ],
   "source": [
    "#10) Compute the element-wise product between the first column of A and the second column of A\n",
    "(A[:,0]*A[:,1])"
   ]
  },
  {
   "cell_type": "code",
   "execution_count": null,
   "id": "54dfd318",
   "metadata": {},
   "outputs": [],
   "source": []
  }
 ],
 "metadata": {
  "kernelspec": {
   "display_name": "Python 3 (ipykernel)",
   "language": "python",
   "name": "python3"
  },
  "language_info": {
   "codemirror_mode": {
    "name": "ipython",
    "version": 3
   },
   "file_extension": ".py",
   "mimetype": "text/x-python",
   "name": "python",
   "nbconvert_exporter": "python",
   "pygments_lexer": "ipython3",
   "version": "3.9.13"
  }
 },
 "nbformat": 4,
 "nbformat_minor": 5
}
