{
 "cells": [
  {
   "cell_type": "markdown",
   "metadata": {},
   "source": [
    "# Describe your problem\n",
    "Briefly describe what $x$ and $y$ are in your data, and why it may be interesting to predict $y$ for a value of $x$ that is not in the training set."
   ]
  },
  {
   "cell_type": "markdown",
   "metadata": {},
   "source": [
    "This data set compares the QBR of an NFL quarterback and the number of wins they had that season. While there are many factors that determine a wins team, the quarterback is arguably the most important position on the team, and their performance can greatly influence the teams performance. For teams looking to reach a certain number of wins, it would be helpful to know what QBR they should expect from their quarterback to give them the best chance of reaching that goal."
   ]
  },
  {
   "cell_type": "markdown",
   "metadata": {},
   "source": [
    "# Enter or load your data\n",
    "Either enter your x and y training data directly here as numpy arrays, or load the data from file. If you choose the latter, make sure to include your data file in the submission!\n"
   ]
  },
  {
   "cell_type": "code",
   "execution_count": 66,
   "metadata": {},
   "outputs": [],
   "source": [
    "# Enter/load data here\n",
    "import pandas as pd\n",
    "import numpy as np\n",
    "import matplotlib.pyplot as plt\n",
    "from gd import cost_function, gradient\n",
    "from IPython.display import display, clear_output\n",
    "from sklearn import datasets, linear_model\n",
    "from sklearn.metrics import mean_squared_error, r2_score\n",
    "\n",
    "#Pulling Data from Excel sheet and renaming columns\n",
    "df = pd.read_excel('qbstats.xlsx')\n",
    "df.columns = df.iloc[0]\n",
    "df=df.drop(df.index[0])\n",
    "\n",
    "#Putting QBR and Wins in numpy arrays\n",
    "QBRS = np.array([df.iloc[:,2]])\n",
    "wins = np.array([df.iloc[:,30]])"
   ]
  },
  {
   "cell_type": "markdown",
   "metadata": {},
   "source": [
    "# Fit a linear regression model\n",
    "Fit a linear regression model to your data. You can either reuse the code from the problem you just completed, or you can use the [linear regression model from scikit learn](http://scikit-learn.org/stable/modules/generated/sklearn.linear_model.LinearRegression.html). Scikit learn is a large module of machine learning algorithms that we will be using throughout the course. It is included in the Anaconda distribution."
   ]
  },
  {
   "cell_type": "code",
   "execution_count": 79,
   "metadata": {},
   "outputs": [
    {
     "data": {
      "text/plain": [
       "1"
      ]
     },
     "execution_count": 79,
     "metadata": {},
     "output_type": "execute_result"
    }
   ],
   "source": [
    "regr = linear_model.LinearRegression()\n",
    "\n",
    "regr.fit(QBRS, wins)\n",
    "\n",
    "wins_predict = regr.predict(QBRS)"
   ]
  },
  {
   "cell_type": "markdown",
   "metadata": {},
   "source": [
    "# Plot the result\n",
    "Plot your data and the best fitting hypothesis."
   ]
  },
  {
   "cell_type": "code",
   "execution_count": 81,
   "metadata": {},
   "outputs": [
    {
     "data": {
      "image/png": "[encoded data removed]",
      "text/plain": [
       "<Figure size 640x480 with 1 Axes>"
      ]
     },
     "metadata": {},
     "output_type": "display_data"
    }
   ],
   "source": [
    "# Code to generate your plot here\n",
    "plt.scatter(QBRS, wins)\n",
    "plt.plot(QBRS, wins_predict, color = 'black', linewidth = 3)\n",
    "plt.show()"
   ]
  },
  {
   "cell_type": "markdown",
   "metadata": {},
   "source": [
    "# Make a prediction\n",
    "Use the learned hypothesis to make a prediction for an input value $x$ that was not in the data set. Briefly discuss the result in the context of the data set you chose. Does the prediction seem useful?"
   ]
  },
  {
   "cell_type": "code",
   "execution_count": null,
   "metadata": {
    "scrolled": true
   },
   "outputs": [],
   "source": [
    "# Code to make the prediction\n",
    "regr.fit(QBRS, wins)\n",
    "QBR = np.array([108])\n",
    "QBR = np.reshape(QBR,(-1,1))\n",
    "wins_prediction = regr.predict(QBR)"
   ]
  },
  {
   "cell_type": "markdown",
   "metadata": {},
   "source": [
    "This prediction sets a benchmark for how many games a team might expect to win based off of their quartback's performance. This would allow managers to determine whether or not their current quarterback provides their team with the best chance of reaching their goals."
   ]
  }
 ],
 "metadata": {
  "kernelspec": {
   "display_name": "Python 3 (ipykernel)",
   "language": "python",
   "name": "python3"
  },
  "language_info": {
   "codemirror_mode": {
    "name": "ipython",
    "version": 3
   },
   "file_extension": ".py",
   "mimetype": "text/x-python",
   "name": "python",
   "nbconvert_exporter": "python",
   "pygments_lexer": "ipython3",
   "version": "3.9.13"
  }
 },
 "nbformat": 4,
 "nbformat_minor": 1
}
