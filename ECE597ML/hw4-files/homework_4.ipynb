{
 "cells": [
  {
   "cell_type": "markdown",
   "metadata": {
    "id": "y0pmyE9e2n3Q"
   },
   "source": [
    "## Introduction to Homework\n",
    "\n",
    "Total Marks 100 points\n",
    "\n",
    "Extra Credit 30 points\n",
    "\n",
    "\n",
    "In this homework, you will create machine learning models using K Nearest Neighbor, Decision Tree and Random Forests for Fashion MNIST dataset. Specific instruction for that part of the problem can be found in the corresponding cells above the code. \n",
    "\n",
    "Note, you only know the labels of the training dataset. The labels of the test dataset are hidden from you. You will perfrom model selection with cross-validation on the training set.  \n",
    "\n",
    "After obtaining parameters, use the code given to generate submissions, and upload you submissions to Kaggle. Kaggle score tells you, the performance of your model with respect to the test dataset. You can try and fine tune your parameters to be in the top 20 percent of the submissions for extra credit of 20 points. \n",
    "\n",
    "How to participate in the kaggle Competition:\n",
    "\n",
    "1. Create an account on Kaggle.com\n",
    "2. Use the link https://www.kaggle.com/c/ece597-697/ to join the competition. Please ensure that you only join using one account. At the top of the jupyter notebook, pdf(s) mention the name you have used for submission. \n",
    "3. Replace the classifier \"xgb_clf\" with the corresponding classifier for your submission(KNN or Decision Tree or Random Forest) and generate submission.csv\n",
    "4. Upload the submission.csv to see your score on the leaderboard\n",
    "5. To gain extra credit points, try to score higher on the leaderboard\n",
    "\n",
    "\n",
    "Bonous Tips:\n",
    "\n",
    "1. You can directly run this notebook on Google colab if your machine is slower. Upload the data and get started!\n",
    "\n",
    "2. Go through the documentation of sklearn carefully.\n",
    "\n",
    "3. Don't try to run the code for all 60,000 data points. Rather first try to verify implementation using 10,000 data points, scale it up to 60,000. If you don't do this, you'll spend lot more time debugging between each iteration. Make the code work first. \n",
    "\n",
    "4. Complete all the classifiers before trying to optimize based on the leaderboard.\n",
    "\n",
    "5. For cross-validation, you can use gridsearchcv\n",
    "\n",
    "6. Start early! It will give you more time to improve your kaggle leaderboard\n",
    "\n",
    "Good Luck!"
   ]
  },
  {
   "cell_type": "code",
   "execution_count": 1,
   "metadata": {
    "colab": {
     "base_uri": "https://localhost:8080/",
     "height": 316
    },
    "id": "kWF3HSdSCEFg",
    "outputId": "64bedfe8-a1e3-4af3-b5ab-2c2f51031fe3"
   },
   "outputs": [
    {
     "name": "stdout",
     "output_type": "stream",
     "text": [
      "x_train shape:  (60000, 784)\n",
      "y_train shape : (60000,)\n",
      "x_test shape:  (10000, 784)\n"
     ]
    },
    {
     "data": {
      "image/png": "[encoded data removed]",
      "text/plain": [
       "<Figure size 640x480 with 1 Axes>"
      ]
     },
     "metadata": {},
     "output_type": "display_data"
    },
    {
     "name": "stdout",
     "output_type": "stream",
     "text": [
      "9\n"
     ]
    }
   ],
   "source": [
    "## Code to load data from train and test csv(s)\n",
    "\n",
    "import numpy as np \n",
    "import pandas as pd\n",
    "import matplotlib\n",
    "import matplotlib.pyplot as plt\n",
    "\n",
    "\n",
    "\n",
    "train=pd.read_csv(\"train.csv\")\n",
    "test=pd.read_csv(\"test.csv\")\n",
    "\n",
    "X_train = train.iloc[:,2:].to_numpy()\n",
    "y_train = train.iloc[:,:1].to_numpy()\n",
    "\n",
    "m,n = y_train.shape\n",
    "\n",
    "y_train = y_train.reshape(m)\n",
    "\n",
    "X_test = test.iloc[:,1:].to_numpy()\n",
    "\n",
    "\n",
    "def showImage(data):\n",
    "    some_article = data\n",
    "    some_article_image = some_article.reshape(28, 28) # Reshaping it to get the 28x28 pixels\n",
    "    plt.imshow(some_article_image, cmap = matplotlib.cm.binary, interpolation=\"nearest\")\n",
    "    plt.axis(\"off\")\n",
    "    plt.show()\n",
    "\n",
    "\n",
    "\n",
    "print('x_train shape: ', X_train.shape)\n",
    "print('y_train shape :', y_train.shape)\n",
    "\n",
    "print('x_test shape: ', X_test.shape)\n",
    "# print('y_test shape :', y_test.shape)\n",
    "\n",
    "showImage(X_train[1])\n",
    "print(y_train[1])\n",
    "\n",
    "from sklearn.preprocessing import StandardScaler\n",
    "\n",
    "scaler = StandardScaler()\n",
    "X_train_scaled = scaler.fit_transform(X_train.astype(np.float64))"
   ]
  },
  {
   "cell_type": "markdown",
   "metadata": {
    "id": "gTu7-SSWvTCd"
   },
   "source": [
    "##KNN Classifier\n",
    "\n",
    "(20 points)Implement a KNN classifier with 5-fold cross validation. What is the best value of n that you obtained? What happens if you increase value of n more than your best value? Use {3, 5, 7, 9, 11} values for n. \n",
    "\n",
    "No need to submit KNN predictions on Kaggle.\n",
    "\n",
    "(5 points) What is the time complexity of the k-NN algorithm with naive search approach? How can you improve upon the naive search to reduce the time complexity? \n",
    "\n",
    "\n",
    "The time complexity of k-NN is O(m * n), where m is the number of feature and n is the number of examples. To improve this, you could reduce dimenstionality, which would decrease the number of features and help improve the speed of the algorithm. Using decision trees could also help organize the example and make the search more efficent.\n"
   ]
  },
  {
   "cell_type": "code",
   "execution_count": 5,
   "metadata": {},
   "outputs": [
    {
     "name": "stdout",
     "output_type": "stream",
     "text": [
      "n=3, Average Accuracy: 0.8536666666666667\n",
      "n=5, Average Accuracy: 0.8553333333333333\n",
      "n=7, Average Accuracy: 0.8546333333333334\n",
      "n=9, Average Accuracy: 0.8535\n",
      "n=11, Average Accuracy: 0.8515333333333335\n",
      "\n",
      "Best value of n: 5, Best Average Accuracy: 0.8553333333333333\n"
     ]
    }
   ],
   "source": [
    "import numpy as np\n",
    "from sklearn.model_selection import cross_val_score, KFold\n",
    "from sklearn.neighbors import KNeighborsClassifier\n",
    "from sklearn.preprocessing import StandardScaler\n",
    "from warnings import simplefilter\n",
    "simplefilter(action='ignore', category=FutureWarning)\n",
    "\n",
    "X = X_train\n",
    "y = y_train\n",
    "\n",
    "# Standardize the features\n",
    "scaler = StandardScaler()\n",
    "X = scaler.fit_transform(X)\n",
    "\n",
    "# Define the values of n for KNN\n",
    "n_values = [3, 5, 7, 9, 11]\n",
    "\n",
    "best_accuracy = 0\n",
    "best_n = None\n",
    "\n",
    "for n in n_values:\n",
    "    knn = KNeighborsClassifier(n_neighbors=n)\n",
    "    crossval = KFold(n_splits=5, shuffle=True, random_state=32) \n",
    "    scores = cross_val_score(knn, X, y, cv=crossval, scoring='accuracy')\n",
    "    avg_accuracy = np.mean(scores)\n",
    "\n",
    "    print(f\"n={n}, Average Accuracy: {avg_accuracy}\")\n",
    "\n",
    "    if avg_accuracy > best_accuracy:\n",
    "        best_accuracy = avg_accuracy\n",
    "        best_n = n\n",
    "\n",
    "print(f\"\\nBest value of n: {best_n}, Best Average Accuracy: {best_accuracy}\")"
   ]
  },
  {
   "cell_type": "markdown",
   "metadata": {
    "id": "7ZOiEFN6dVFu"
   },
   "source": [
    "## Decision Tree Classifier 1\n",
    "\n",
    "(10 points) Train five different decision trees. Use the following max depths (10, 11, 12, 13, 14) How does the maximum depth of the tree affect the estimated accuracy? Explain in at most 4 sentences. Choose the model with lowest estimated out of sample error, train it with the full training set, and predict the labels for the images in the test set using Kagglization code given at the end of the notebook. Upload your predictions to Kaggle and report the\n",
    "accuracy on the public leaderboard by pasting a screenshot in your code.pdf. Is the predicted accuracy close to that of the test set? Make sure that your report clearly states which model was chosen and why.\n",
    "\n",
    "(5 points) What does default value ccp_alpha=0.0 signify for the decision tree classifier?\n",
    "\n",
    "1) The higher the maximum depth of the tree, the more complex the tree is, increasing accuracy in some cases. If a tree is too deep, this may lead to overfitting, which will decrease the effectiveness of the model.\n",
    "\n",
    "2) This means that no pruning is done, which is meant to help limit overfitting.\n"
   ]
  },
  {
   "cell_type": "code",
   "execution_count": 6,
   "metadata": {},
   "outputs": [
    {
     "name": "stdout",
     "output_type": "stream",
     "text": [
      "Max Depth: 10, Training Accuracy: 0.8479666666666666\n",
      "Max Depth: 11, Training Accuracy: 0.8679666666666667\n",
      "Max Depth: 12, Training Accuracy: 0.8866666666666667\n",
      "Max Depth: 13, Training Accuracy: 0.90565\n",
      "Max Depth: 14, Training Accuracy: 0.9266666666666666\n"
     ]
    }
   ],
   "source": [
    "from sklearn.tree import DecisionTreeClassifier\n",
    "from sklearn.metrics import accuracy_score\n",
    "\n",
    "# Train five different decision trees with different maximum depths\n",
    "max_depths = [10, 11, 12, 13, 14]\n",
    "DTs = []\n",
    "\n",
    "for depth in max_depths:\n",
    "    DT = DecisionTreeClassifier(max_depth=depth)\n",
    "    DT.fit(X_train, y_train)\n",
    "    DTs.append(DT)\n",
    "\n",
    "# Evaluate the accuracy of each model on the training data\n",
    "train_accuracies = []\n",
    "for DT in DTs:\n",
    "    y_train_pred = DT.predict(X_train)\n",
    "    train_accuracy = accuracy_score(y_train, y_train_pred)\n",
    "    train_accuracies.append(train_accuracy)\n",
    "    print(f\"Max Depth: {DT.max_depth}, Training Accuracy: {train_accuracy}\")"
   ]
  },
  {
   "cell_type": "code",
   "execution_count": 29,
   "metadata": {},
   "outputs": [
    {
     "data": {
      "text/plain": [
       "DecisionTreeClassifier(max_depth=16)"
      ]
     },
     "execution_count": 29,
     "metadata": {},
     "output_type": "execute_result"
    }
   ],
   "source": [
    "DT1 = DecisionTreeClassifier(max_depth=16)\n",
    "DT1.fit(X_train, y_train)"
   ]
  },
  {
   "cell_type": "markdown",
   "metadata": {
    "id": "CmokAZyRaZPR"
   },
   "source": [
    "## Decision Tree Classifier 2\n",
    "\n",
    "(10 points) Train five different decision trees using five-fold cross validation. Use the following values for max depth (10, 13, 16, 19). Keep all the other parameters to default value. How does the maximum depth of the tree affect the estimated accuracy? Explain in at most 4 sentences. Choose the model with lowest estimated out of sample error, train it with the full training set, and predict the labels for the images in the test set. Finally using Kagglization code given at the end of the notebook generate predictions. Upload your predictions to Kaggle as well as report the position on the public leaderboard by pasting a screenshot in your code.pdf. Is the accuracy obtained on training set, close to that of the test set(kaggle leaderboard)? Make sure that your report clearly states which max depth was chosen and why.\n",
    "\n",
    "(10 points) Compare the best tree obtained for max-depth, with the best tree classifier obtained for ccp_alpha. Is there a difference in their errors? Why?\n",
    "\n",
    "1) The higher the maximum depth of the tree, the more complex the tree is, increasing accuracy in some cases. If a tree is too deep, this may lead to overfitting, which will decrease the effectiveness of the model.\n",
    "\n",
    "2) The best tree classifier obtained for ccp_alpha has a higher error rate than the best tree obtained for max-depth. This is because ccp_alpha is meant to combat overfitting, which makes it a better model for the test set, but a worse model for the training data.\n",
    "\n"
   ]
  },
  {
   "cell_type": "code",
   "execution_count": 28,
   "metadata": {},
   "outputs": [
    {
     "name": "stdout",
     "output_type": "stream",
     "text": [
      "Max Depth: 16, ccp_alpha : 0.0001, Average Accuracy: 0.8181833333333334\n",
      "Max Depth: 16, ccp_alpha : 0.001, Average Accuracy: 0.7758166666666667\n",
      "Max Depth: 16, ccp_alpha : 0.01, Average Accuracy: 0.6928666666666666\n",
      "Max Depth: 16, ccp_alpha : 0.1, Average Accuracy: 0.1\n"
     ]
    }
   ],
   "source": [
    "import numpy as np\n",
    "from sklearn.tree import DecisionTreeClassifier\n",
    "from sklearn.model_selection import cross_val_score\n",
    "\n",
    "# Define the values of depth for decision trees\n",
    "depth = 16\n",
    "\n",
    "#Define the values of ccp_alpha\n",
    "ccp_alphas = [0.0001,0.001,0.01,0.1]\n",
    "# Perform five-fold cross-validation for each value of max depth\n",
    "for ccp_alpha in ccp_alphas:\n",
    "    model = DecisionTreeClassifier(max_depth=depth,ccp_alpha = ccp_alpha)\n",
    "    model.fit(X_train, y_train)\n",
    "    scores = cross_val_score(model, X_train, y_train, cv=5, scoring='accuracy')\n",
    "    avg_accuracy = np.mean(scores)\n",
    "    print(f\"Max Depth: {depth}, ccp_alpha : {ccp_alpha}, Average Accuracy: {avg_accuracy}\")"
   ]
  },
  {
   "cell_type": "code",
   "execution_count": 30,
   "metadata": {},
   "outputs": [
    {
     "data": {
      "text/plain": [
       "DecisionTreeClassifier(ccp_alpha=0.001, max_depth=16)"
      ]
     },
     "execution_count": 30,
     "metadata": {},
     "output_type": "execute_result"
    }
   ],
   "source": [
    "DT2 = DecisionTreeClassifier(max_depth=16, ccp_alpha=0.001)\n",
    "DT2.fit(X_train, y_train)"
   ]
  },
  {
   "cell_type": "markdown",
   "metadata": {
    "id": "mtSUG0s2g0Fk"
   },
   "source": [
    "## Random Forest Classifier "
   ]
  },
  {
   "cell_type": "markdown",
   "metadata": {
    "id": "1Rs5L59QdQSB"
   },
   "source": [
    "(20 points) Create a random forest with 150 estimators and using out of bag classification score set to True. \n",
    "\n",
    "Create another random forest with 150 estimators without using out of bag score and bootstrap. Cross validate over 'max_features' with values [10,28,50]. \n",
    "\n",
    "Use the best random forest out of all the forests you created to predict labels in test.csv. Generate predictions using the kagglization code given at the end of the notebook. Upload your predictions obtained to Kaggle and report the accuracy on the public leaderboard by pasting a screenshot in the code.pdf. Is the predicted accuracy close to that of the test set? Make sure that your report clearly states which model was chosen and why?\n",
    "\n",
    "(5 points) Compare the output of both the forests."
   ]
  },
  {
   "cell_type": "code",
   "execution_count": 9,
   "metadata": {},
   "outputs": [
    {
     "name": "stdout",
     "output_type": "stream",
     "text": [
      "Max Features: 10, Average Accuracy: 0.8824166666666666\n",
      "Max Features: 10, Average Accuracy: 0.8876833333333334\n",
      "Max Features: 28, Average Accuracy: 0.8821999999999999\n",
      "Max Features: 28, Average Accuracy: 0.8874333333333334\n",
      "Max Features: 50, Average Accuracy: 0.8821666666666668\n",
      "Max Features: 50, Average Accuracy: 0.8877333333333335\n"
     ]
    }
   ],
   "source": [
    "import numpy as np\n",
    "import pandas as pd\n",
    "from sklearn.ensemble import RandomForestClassifier\n",
    "from sklearn.model_selection import cross_val_score\n",
    "from sklearn.metrics import accuracy_score\n",
    "\n",
    "# Random Forest with Out-of-Bag \n",
    "rf_oob = RandomForestClassifier(n_estimators=150, oob_score=True)\n",
    "rf_with_oob = rf_oob.fit(X_train, y_train)\n",
    "\n",
    "# Random Forest without Out-of-Bag\n",
    "rf_no_oob = RandomForestClassifier(n_estimators=150, oob_score=False, bootstrap=False)\n",
    "rf_with_no_oob = rf_no_oob.fit(X_train, y_train)\n",
    "\n",
    "# Cross-validation over max_features for Random Forests\n",
    "max_features_values = [10, 28, 50]\n",
    "rfs = [rf_with_oob, rf_with_no_oob]\n",
    "best_accuracy = 0\n",
    "best_rf = None\n",
    "\n",
    "for max_features in max_features_values:\n",
    "    for rf in rfs:\n",
    "        scores = cross_val_score(rf, X_train, y_train, cv=5, scoring='accuracy')\n",
    "        avg_accuracy = np.mean(scores)\n",
    "\n",
    "        print(f\"Max Features: {max_features}, Average Accuracy: {avg_accuracy}\")\n",
    "\n",
    "        if avg_accuracy > best_accuracy:\n",
    "            best_accuracy = avg_accuracy\n",
    "            best_rf = rf"
   ]
  },
  {
   "cell_type": "markdown",
   "metadata": {
    "id": "0f1tEZfYFMTN"
   },
   "source": [
    "\n",
    "\n",
    "(15 points) Can you visualize the most important Random Forest Classifier features?  (Hint: Obtain feature importances and visualize them by reshaping the data)\n",
    "\n",
    "\n",
    "## Extra credit\n",
    "\n",
    "(10 points) Can you sort and remove features that insignificant, to improve the testing time? Show this using code that removing certain features doesn't drastically change the error, but improves speed of testing. "
   ]
  },
  {
   "cell_type": "code",
   "execution_count": 12,
   "metadata": {},
   "outputs": [
    {
     "data": {
      "image/png": "[encoded data removed]",
      "text/plain": [
       "<Figure size 1000x600 with 2 Axes>"
      ]
     },
     "metadata": {},
     "output_type": "display_data"
    },
    {
     "data": {
      "image/png": "[encoded data removed]",
      "text/plain": [
       "<Figure size 1000x600 with 2 Axes>"
      ]
     },
     "metadata": {},
     "output_type": "display_data"
    }
   ],
   "source": [
    "# Obtain feature importances\n",
    "feature_importances_oob = rf_with_oob.feature_importances_\n",
    "feature_importances_no_oob = rf_with_no_oob.feature_importances_\n",
    "\n",
    "# Reshape the feature importances for visualization\n",
    "feature_importances_oob = feature_importances_oob.reshape(28, 28)\n",
    "feature_importances_no_oob = feature_importances_no_oob.reshape(28, 28)\n",
    "\n",
    "# Plotting the feature importances\n",
    "plt.figure(figsize=(10, 6))\n",
    "plt.imshow(feature_importances_oob, cmap='hot', interpolation='nearest')\n",
    "plt.title(\"Random Forest Feature with OOB Importances\")\n",
    "plt.colorbar()\n",
    "plt.show()\n",
    "\n",
    "# Plotting the feature importances\n",
    "plt.figure(figsize=(10, 6))\n",
    "plt.imshow(feature_importances_no_oob, cmap='hot', interpolation='nearest')\n",
    "plt.title(\"Random Forest Feature No OOB Importances\")\n",
    "plt.colorbar()\n",
    "plt.show()"
   ]
  },
  {
   "cell_type": "markdown",
   "metadata": {
    "id": "J1CQeXO4dbK8"
   },
   "source": [
    "## Kagglization code \n",
    "\n",
    "use this code to generate prediction.csv for you classifier. Upload the predictions to the kaggle competition. Replace xgb_clf by corresponding classifier to obtain your prediction.csv\n",
    "\n"
   ]
  },
  {
   "cell_type": "code",
   "execution_count": 33,
   "metadata": {
    "id": "sJyZcVtjU0mt"
   },
   "outputs": [],
   "source": [
    "## code to generate predictions\n",
    "\n",
    "import csv\n",
    "\n",
    "predictions = np.zeros(10000,)\n",
    "for i in range(0,10000):\n",
    "    predictions[i] = int((DT2.predict(X_test[i].reshape(1, -1)))) ## make change in this line for each classifier upload output from Decision Tree and random forest on Kaggle!\n",
    "\n",
    "# pd\n",
    "prediction = pd.DataFrame(predictions, columns=['label']).astype(int).to_csv('predictionDT2.csv')\n",
    "\n",
    "format_read=pd.read_csv(\"predictionDT2.csv\")\n",
    "format_read.columns = [\"id\",\"label\"]\n",
    "format_read.to_csv(\"predictionDT2.csv\",index=False)"
   ]
  },
  {
   "cell_type": "code",
   "execution_count": null,
   "metadata": {},
   "outputs": [],
   "source": []
  }
 ],
 "metadata": {
  "colab": {
   "name": "homework 4 Problems",
   "provenance": [],
   "toc_visible": true
  },
  "kernelspec": {
   "display_name": "Python 3 (ipykernel)",
   "language": "python",
   "name": "python3"
  },
  "language_info": {
   "codemirror_mode": {
    "name": "ipython",
    "version": 3
   },
   "file_extension": ".py",
   "mimetype": "text/x-python",
   "name": "python",
   "nbconvert_exporter": "python",
   "pygments_lexer": "ipython3",
   "version": "3.9.13"
  }
 },
 "nbformat": 4,
 "nbformat_minor": 1
}
